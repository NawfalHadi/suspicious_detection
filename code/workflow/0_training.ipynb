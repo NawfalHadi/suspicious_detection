{
 "cells": [
  {
   "cell_type": "markdown",
   "id": "ddb612f5",
   "metadata": {},
   "source": [
    "# Train the dataset"
   ]
  },
  {
   "cell_type": "code",
   "execution_count": null,
   "id": "b3549654",
   "metadata": {},
   "outputs": [],
   "source": [
    "import pandas as pd\n",
    "import numpy as np\n",
    "import matplotlib.pyplot as plt\n",
    "import pickle, os\n",
    "\n",
    "import tensorflow as tf\n",
    "from tensorflow import keras\n",
    "from keras import layers\n",
    "from keras import models\n",
    "\n",
    "from sklearn.pipeline import make_pipeline\n",
    "from sklearn.preprocessing import StandardScaler \n",
    "from sklearn.metrics import confusion_matrix, ConfusionMatrixDisplay, classification_report\n",
    "from sklearn.model_selection import train_test_split\n",
    "from sklearn.svm import *\n",
    "\n",
    "import seaborn as sns"
   ]
  },
  {
   "cell_type": "code",
   "execution_count": 2,
   "id": "bd254c09",
   "metadata": {},
   "outputs": [
    {
     "data": {
      "text/html": [
       "<div>\n",
       "<style scoped>\n",
       "    .dataframe tbody tr th:only-of-type {\n",
       "        vertical-align: middle;\n",
       "    }\n",
       "\n",
       "    .dataframe tbody tr th {\n",
       "        vertical-align: top;\n",
       "    }\n",
       "\n",
       "    .dataframe thead th {\n",
       "        text-align: right;\n",
       "    }\n",
       "</style>\n",
       "<table border=\"1\" class=\"dataframe\">\n",
       "  <thead>\n",
       "    <tr style=\"text-align: right;\">\n",
       "      <th></th>\n",
       "      <th>class</th>\n",
       "      <th>x1</th>\n",
       "      <th>y1</th>\n",
       "      <th>z1</th>\n",
       "      <th>v1</th>\n",
       "      <th>x2</th>\n",
       "      <th>y2</th>\n",
       "      <th>z2</th>\n",
       "      <th>v2</th>\n",
       "      <th>x3</th>\n",
       "      <th>...</th>\n",
       "      <th>y74</th>\n",
       "      <th>z74</th>\n",
       "      <th>v74</th>\n",
       "      <th>x75</th>\n",
       "      <th>y75</th>\n",
       "      <th>z75</th>\n",
       "      <th>v75</th>\n",
       "      <th>face_d75</th>\n",
       "      <th>face_s75</th>\n",
       "      <th>hand_s75</th>\n",
       "    </tr>\n",
       "  </thead>\n",
       "  <tbody>\n",
       "    <tr>\n",
       "      <th>0</th>\n",
       "      <td>celinguk</td>\n",
       "      <td>0.452516</td>\n",
       "      <td>0.177898</td>\n",
       "      <td>-0.904605</td>\n",
       "      <td>0.999882</td>\n",
       "      <td>0.516650</td>\n",
       "      <td>0.137372</td>\n",
       "      <td>-0.673349</td>\n",
       "      <td>0.999341</td>\n",
       "      <td>0.422173</td>\n",
       "      <td>...</td>\n",
       "      <td>0.609458</td>\n",
       "      <td>-0.498302</td>\n",
       "      <td>0.967000</td>\n",
       "      <td>0.330829</td>\n",
       "      <td>0.609458</td>\n",
       "      <td>-0.498302</td>\n",
       "      <td>0.967000</td>\n",
       "      <td>2.0</td>\n",
       "      <td>0.0</td>\n",
       "      <td>0.0</td>\n",
       "    </tr>\n",
       "    <tr>\n",
       "      <th>1</th>\n",
       "      <td>celinguk</td>\n",
       "      <td>0.687073</td>\n",
       "      <td>0.188956</td>\n",
       "      <td>-0.612002</td>\n",
       "      <td>0.996062</td>\n",
       "      <td>0.648438</td>\n",
       "      <td>0.158911</td>\n",
       "      <td>-0.388706</td>\n",
       "      <td>0.987777</td>\n",
       "      <td>0.601190</td>\n",
       "      <td>...</td>\n",
       "      <td>0.525487</td>\n",
       "      <td>-0.142604</td>\n",
       "      <td>0.941713</td>\n",
       "      <td>0.311903</td>\n",
       "      <td>0.525487</td>\n",
       "      <td>-0.142604</td>\n",
       "      <td>0.941713</td>\n",
       "      <td>0.0</td>\n",
       "      <td>0.0</td>\n",
       "      <td>0.0</td>\n",
       "    </tr>\n",
       "    <tr>\n",
       "      <th>2</th>\n",
       "      <td>celinguk</td>\n",
       "      <td>0.485780</td>\n",
       "      <td>0.217672</td>\n",
       "      <td>-0.780860</td>\n",
       "      <td>0.996510</td>\n",
       "      <td>0.578979</td>\n",
       "      <td>0.168560</td>\n",
       "      <td>-0.718592</td>\n",
       "      <td>0.986905</td>\n",
       "      <td>0.490544</td>\n",
       "      <td>...</td>\n",
       "      <td>0.577168</td>\n",
       "      <td>-0.192743</td>\n",
       "      <td>0.966556</td>\n",
       "      <td>0.330957</td>\n",
       "      <td>0.577168</td>\n",
       "      <td>-0.192743</td>\n",
       "      <td>0.966556</td>\n",
       "      <td>2.0</td>\n",
       "      <td>0.0</td>\n",
       "      <td>0.0</td>\n",
       "    </tr>\n",
       "  </tbody>\n",
       "</table>\n",
       "<p>3 rows × 346 columns</p>\n",
       "</div>"
      ],
      "text/plain": [
       "      class        x1        y1        z1        v1        x2        y2  \\\n",
       "0  celinguk  0.452516  0.177898 -0.904605  0.999882  0.516650  0.137372   \n",
       "1  celinguk  0.687073  0.188956 -0.612002  0.996062  0.648438  0.158911   \n",
       "2  celinguk  0.485780  0.217672 -0.780860  0.996510  0.578979  0.168560   \n",
       "\n",
       "         z2        v2        x3  ...       y74       z74       v74       x75  \\\n",
       "0 -0.673349  0.999341  0.422173  ...  0.609458 -0.498302  0.967000  0.330829   \n",
       "1 -0.388706  0.987777  0.601190  ...  0.525487 -0.142604  0.941713  0.311903   \n",
       "2 -0.718592  0.986905  0.490544  ...  0.577168 -0.192743  0.966556  0.330957   \n",
       "\n",
       "        y75       z75       v75  face_d75  face_s75  hand_s75  \n",
       "0  0.609458 -0.498302  0.967000       2.0       0.0       0.0  \n",
       "1  0.525487 -0.142604  0.941713       0.0       0.0       0.0  \n",
       "2  0.577168 -0.192743  0.966556       2.0       0.0       0.0  \n",
       "\n",
       "[3 rows x 346 columns]"
      ]
     },
     "execution_count": 2,
     "metadata": {},
     "output_type": "execute_result"
    }
   ],
   "source": [
    "df = pd.read_csv('../../dataset/csv/dataset_v1.csv')\n",
    "df.head(3)"
   ]
  },
  {
   "cell_type": "code",
   "execution_count": 3,
   "id": "50093f93",
   "metadata": {},
   "outputs": [
    {
     "data": {
      "text/plain": [
       "class\n",
       "celinguk       50\n",
       "diam           50\n",
       "nodong         50\n",
       "tutupmuka      50\n",
       "tutuptangan    50\n",
       "Name: count, dtype: int64"
      ]
     },
     "execution_count": 3,
     "metadata": {},
     "output_type": "execute_result"
    }
   ],
   "source": [
    "df['class'].value_counts()"
   ]
  },
  {
   "cell_type": "code",
   "execution_count": 4,
   "id": "47b53924",
   "metadata": {},
   "outputs": [
    {
     "name": "stdout",
     "output_type": "stream",
     "text": [
      "Train set size: 212\n",
      "Test set size: 38\n"
     ]
    }
   ],
   "source": [
    "X = df.drop('class', axis=1) # features\n",
    "y = df['class'] # target value\n",
    "\n",
    "X_train, X_test, y_train, y_test = train_test_split(X, y, test_size=0.15, random_state=1234)\n",
    "\n",
    "print(f\"Train set size: {X_train.shape[0]}\")\n",
    "print(f\"Test set size: {X_test.shape[0]}\")"
   ]
  },
  {
   "cell_type": "code",
   "execution_count": 5,
   "id": "21b30310",
   "metadata": {},
   "outputs": [
    {
     "data": {
      "text/plain": [
       "202    tutuptangan\n",
       "94            diam\n",
       "31        celinguk\n",
       "246    tutuptangan\n",
       "215    tutuptangan\n",
       "6         celinguk\n",
       "91            diam\n",
       "73            diam\n",
       "129         nodong\n",
       "5         celinguk\n",
       "136         nodong\n",
       "111         nodong\n",
       "161      tutupmuka\n",
       "74            diam\n",
       "48        celinguk\n",
       "65            diam\n",
       "7         celinguk\n",
       "218    tutuptangan\n",
       "32        celinguk\n",
       "63            diam\n",
       "132         nodong\n",
       "97            diam\n",
       "51            diam\n",
       "122         nodong\n",
       "9         celinguk\n",
       "145         nodong\n",
       "110         nodong\n",
       "196      tutupmuka\n",
       "52            diam\n",
       "238    tutuptangan\n",
       "29        celinguk\n",
       "131         nodong\n",
       "125         nodong\n",
       "141         nodong\n",
       "235    tutuptangan\n",
       "164      tutupmuka\n",
       "245    tutuptangan\n",
       "95            diam\n",
       "Name: class, dtype: object"
      ]
     },
     "execution_count": 5,
     "metadata": {},
     "output_type": "execute_result"
    }
   ],
   "source": [
    "y_test"
   ]
  },
  {
   "cell_type": "code",
   "execution_count": 6,
   "id": "a82d7e51",
   "metadata": {},
   "outputs": [],
   "source": [
    "model = make_pipeline(StandardScaler(), SVC(probability=True)).fit(X_train, y_train)\n",
    "y_probs = model.predict_proba(X_train)"
   ]
  },
  {
   "cell_type": "code",
   "execution_count": 7,
   "id": "a2775f51",
   "metadata": {},
   "outputs": [],
   "source": [
    "version = 1\n",
    "path = f'../../model/trained/svc/'\n",
    "os.makedirs(os.path.dirname(path), exist_ok=True)\n",
    "\n",
    "with open(f'{path}/svc_model_v{version}.pkl', 'wb') as f:\n",
    "    pickle.dump(model, f)"
   ]
  },
  {
   "cell_type": "code",
   "execution_count": 8,
   "id": "65d4bd51",
   "metadata": {},
   "outputs": [
    {
     "data": {
      "text/plain": [
       "array(['diam', 'tutupmuka', 'celinguk', 'nodong', 'tutupmuka', 'diam',\n",
       "       'nodong', 'nodong', 'nodong', 'tutuptangan', 'diam', 'celinguk',\n",
       "       'celinguk', 'diam', 'tutuptangan', 'tutupmuka', 'diam', 'diam',\n",
       "       'diam', 'nodong', 'tutuptangan', 'tutuptangan', 'tutupmuka',\n",
       "       'tutuptangan', 'nodong', 'nodong', 'diam', 'diam', 'nodong',\n",
       "       'celinguk', 'diam', 'tutupmuka', 'tutuptangan', 'nodong',\n",
       "       'tutupmuka', 'celinguk', 'nodong', 'tutupmuka', 'tutupmuka',\n",
       "       'nodong', 'tutupmuka', 'celinguk', 'celinguk', 'diam', 'celinguk',\n",
       "       'tutupmuka', 'tutuptangan', 'celinguk', 'tutuptangan', 'celinguk',\n",
       "       'tutupmuka', 'tutupmuka', 'tutupmuka', 'nodong', 'tutuptangan',\n",
       "       'tutuptangan', 'tutupmuka', 'celinguk', 'nodong', 'nodong',\n",
       "       'tutupmuka', 'celinguk', 'nodong', 'diam', 'tutupmuka', 'diam',\n",
       "       'nodong', 'tutupmuka', 'celinguk', 'tutuptangan', 'tutuptangan',\n",
       "       'diam', 'tutuptangan', 'tutupmuka', 'tutuptangan', 'tutuptangan',\n",
       "       'tutupmuka', 'celinguk', 'tutuptangan', 'tutuptangan', 'tutupmuka',\n",
       "       'tutuptangan', 'celinguk', 'nodong', 'celinguk', 'diam',\n",
       "       'celinguk', 'tutupmuka', 'diam', 'tutuptangan', 'celinguk', 'diam',\n",
       "       'tutuptangan', 'nodong', 'tutupmuka', 'celinguk', 'diam', 'nodong',\n",
       "       'diam', 'tutuptangan', 'tutuptangan', 'tutupmuka', 'tutuptangan',\n",
       "       'tutuptangan', 'nodong', 'celinguk', 'tutupmuka', 'tutupmuka',\n",
       "       'tutuptangan', 'tutuptangan', 'celinguk', 'tutupmuka', 'nodong',\n",
       "       'diam', 'diam', 'nodong', 'celinguk', 'nodong', 'tutupmuka',\n",
       "       'diam', 'tutupmuka', 'diam', 'diam', 'tutupmuka', 'nodong', 'diam',\n",
       "       'celinguk', 'celinguk', 'celinguk', 'tutuptangan', 'tutuptangan',\n",
       "       'tutuptangan', 'tutupmuka', 'nodong', 'nodong', 'tutuptangan',\n",
       "       'nodong', 'tutuptangan', 'tutuptangan', 'diam', 'celinguk',\n",
       "       'tutuptangan', 'tutuptangan', 'tutupmuka', 'diam', 'diam',\n",
       "       'tutupmuka', 'diam', 'celinguk', 'celinguk', 'celinguk', 'diam',\n",
       "       'diam', 'tutupmuka', 'nodong', 'tutuptangan', 'diam',\n",
       "       'tutuptangan', 'celinguk', 'diam', 'diam', 'tutupmuka',\n",
       "       'tutupmuka', 'tutuptangan', 'diam', 'tutupmuka', 'celinguk',\n",
       "       'nodong', 'nodong', 'tutuptangan', 'tutupmuka', 'nodong',\n",
       "       'celinguk', 'celinguk', 'celinguk', 'tutuptangan', 'diam',\n",
       "       'nodong', 'diam', 'tutupmuka', 'tutupmuka', 'celinguk', 'celinguk',\n",
       "       'diam', 'celinguk', 'tutupmuka', 'nodong', 'tutuptangan', 'diam',\n",
       "       'diam', 'tutuptangan', 'nodong', 'nodong', 'tutupmuka', 'nodong',\n",
       "       'celinguk', 'nodong', 'tutupmuka', 'tutupmuka', 'celinguk',\n",
       "       'tutupmuka', 'tutuptangan', 'celinguk', 'tutupmuka', 'nodong',\n",
       "       'tutupmuka', 'nodong', 'tutuptangan', 'diam', 'celinguk',\n",
       "       'tutuptangan', 'celinguk'], dtype=object)"
      ]
     },
     "execution_count": 8,
     "metadata": {},
     "output_type": "execute_result"
    }
   ],
   "source": [
    "y_pred = model.predict(X_train)\n",
    "y_pred"
   ]
  },
  {
   "cell_type": "code",
   "execution_count": 9,
   "id": "595e2bbc",
   "metadata": {},
   "outputs": [
    {
     "name": "stdout",
     "output_type": "stream",
     "text": [
      "True Positive (TP): 0\n",
      "False Positive (FP): 8\n",
      "True Negative (TN): 30\n",
      "False Negative (FN): 0\n"
     ]
    }
   ],
   "source": [
    "# Set the threshold for positive detection\n",
    "threshold = 0.75\n",
    "\n",
    "# Get the predicted probabilities for the test set\n",
    "y_pred_proba = model.predict_proba(X_test)[:, 1]\n",
    "\n",
    "# Apply the threshold to get binary predictions\n",
    "y_pred = (y_pred_proba >= threshold).astype(int)\n",
    "\n",
    "# Convert y_test to binary format (1 for positive class, 0 for negative class)\n",
    "y_test_binary = (y_test == 'positive_class').astype(int)  # Replace 'positive_class' with the actual positive class label\n",
    "\n",
    "\n",
    "# Generate confusion matrix\n",
    "cm = confusion_matrix(y_test_binary, y_pred)\n",
    "TN, FP, FN, TP = cm.ravel()\n",
    "\n",
    "print(\"True Positive (TP):\", TP)\n",
    "print(\"False Positive (FP):\", FP)\n",
    "print(\"True Negative (TN):\", TN)\n",
    "print(\"False Negative (FN):\", FN)"
   ]
  },
  {
   "cell_type": "code",
   "execution_count": null,
   "id": "86e016d4",
   "metadata": {},
   "outputs": [],
   "source": [
    "# from sklearn.metrics import classification_report, confusion_matrix\n",
    "# import seaborn as sns\n",
    "# import matplotlib.pyplot as plt\n",
    "# import numpy as np\n",
    "\n",
    "y_pred = model.predict(X_train)\n",
    "\n",
    "print(\"\\nClassification Report (Training Data):\")\n",
    "print(classification_report(y_train, y_pred, digits=4))\n",
    "\n",
    "cm = confusion_matrix(y_train, y_pred, labels=np.unique(y_train))\n",
    "cm_sum = np.sum(cm, axis=1, keepdims=True)\n",
    "cm_perc = (cm / cm_sum.astype(float)) * 100\n",
    "\n",
    "# Annotate counts and percentages\n",
    "annot = np.empty_like(cm).astype(str)\n",
    "nrows, ncols = cm.shape\n",
    "for i in range(nrows):\n",
    "    for j in range(ncols):\n",
    "        c = cm[i, j]\n",
    "        p = cm_perc[i, j]\n",
    "        if c == 0:\n",
    "            annot[i, j] = \"\"\n",
    "        else:\n",
    "            annot[i, j] = f\"{c}\\n({p:.1f}%)\"\n",
    "\n",
    "# Plot heatmap\n",
    "plt.figure(figsize=(7, 6))\n",
    "sns.heatmap(\n",
    "    cm,\n",
    "    annot=annot,\n",
    "    fmt='',\n",
    "    cmap='Blues',\n",
    "    cbar=True,\n",
    "    xticklabels=np.unique(y_train),\n",
    "    yticklabels=np.unique(y_train)\n",
    ")\n",
    "plt.title('Confusion Matrix - Training Data')\n",
    "plt.xlabel('Predicted Label')\n",
    "plt.ylabel('True Label')\n",
    "plt.tight_layout()\n",
    "plt.show()\n"
   ]
  }
 ],
 "metadata": {
  "kernelspec": {
   "display_name": "venv",
   "language": "python",
   "name": "python3"
  },
  "language_info": {
   "codemirror_mode": {
    "name": "ipython",
    "version": 3
   },
   "file_extension": ".py",
   "mimetype": "text/x-python",
   "name": "python",
   "nbconvert_exporter": "python",
   "pygments_lexer": "ipython3",
   "version": "3.11.0"
  }
 },
 "nbformat": 4,
 "nbformat_minor": 5
}
