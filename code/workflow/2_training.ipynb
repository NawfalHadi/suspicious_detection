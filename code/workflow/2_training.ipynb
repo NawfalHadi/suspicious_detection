{
 "cells": [
  {
   "cell_type": "code",
   "execution_count": 2,
   "id": "023bac3a",
   "metadata": {},
   "outputs": [],
   "source": [
    "import pandas as pd\n",
    "import numpy as np\n",
    "import matplotlib.pyplot as plt\n",
    "import pickle, os\n",
    "\n",
    "import tensorflow as tf\n",
    "from tensorflow import keras\n",
    "\n",
    "from keras.models import Sequential\n",
    "from keras.layers import LSTM, Dense, GRU, Dropout, Bidirectional\n",
    "\n",
    "from sklearn.pipeline import make_pipeline\n",
    "from sklearn.preprocessing import StandardScaler, LabelEncoder\n",
    "from sklearn.metrics import confusion_matrix, ConfusionMatrixDisplay\n",
    "from sklearn.model_selection import train_test_split\n",
    "from sklearn.svm import *\n"
   ]
  },
  {
   "cell_type": "code",
   "execution_count": 3,
   "id": "28e11eb4",
   "metadata": {},
   "outputs": [],
   "source": [
    "VERSION = 'v1'"
   ]
  },
  {
   "cell_type": "code",
   "execution_count": 4,
   "id": "a765161d",
   "metadata": {},
   "outputs": [
    {
     "data": {
      "text/html": [
       "<div>\n",
       "<style scoped>\n",
       "    .dataframe tbody tr th:only-of-type {\n",
       "        vertical-align: middle;\n",
       "    }\n",
       "\n",
       "    .dataframe tbody tr th {\n",
       "        vertical-align: top;\n",
       "    }\n",
       "\n",
       "    .dataframe thead th {\n",
       "        text-align: right;\n",
       "    }\n",
       "</style>\n",
       "<table border=\"1\" class=\"dataframe\">\n",
       "  <thead>\n",
       "    <tr style=\"text-align: right;\">\n",
       "      <th></th>\n",
       "      <th>class</th>\n",
       "      <th>x1</th>\n",
       "      <th>y1</th>\n",
       "      <th>z1</th>\n",
       "      <th>v1</th>\n",
       "      <th>x2</th>\n",
       "      <th>y2</th>\n",
       "      <th>z2</th>\n",
       "      <th>v2</th>\n",
       "      <th>x3</th>\n",
       "      <th>...</th>\n",
       "      <th>y74</th>\n",
       "      <th>z74</th>\n",
       "      <th>v74</th>\n",
       "      <th>x75</th>\n",
       "      <th>y75</th>\n",
       "      <th>z75</th>\n",
       "      <th>v75</th>\n",
       "      <th>face_d75</th>\n",
       "      <th>face_s75</th>\n",
       "      <th>hand_s75</th>\n",
       "    </tr>\n",
       "  </thead>\n",
       "  <tbody>\n",
       "    <tr>\n",
       "      <th>0</th>\n",
       "      <td>celinguk</td>\n",
       "      <td>0.452516</td>\n",
       "      <td>0.177898</td>\n",
       "      <td>-0.904605</td>\n",
       "      <td>0.999882</td>\n",
       "      <td>0.516650</td>\n",
       "      <td>0.137372</td>\n",
       "      <td>-0.673349</td>\n",
       "      <td>0.999341</td>\n",
       "      <td>0.422173</td>\n",
       "      <td>...</td>\n",
       "      <td>0.609458</td>\n",
       "      <td>-0.498302</td>\n",
       "      <td>0.967000</td>\n",
       "      <td>0.330829</td>\n",
       "      <td>0.609458</td>\n",
       "      <td>-0.498302</td>\n",
       "      <td>0.967000</td>\n",
       "      <td>2.0</td>\n",
       "      <td>0.0</td>\n",
       "      <td>0.0</td>\n",
       "    </tr>\n",
       "    <tr>\n",
       "      <th>1</th>\n",
       "      <td>celinguk</td>\n",
       "      <td>0.687073</td>\n",
       "      <td>0.188956</td>\n",
       "      <td>-0.612002</td>\n",
       "      <td>0.996062</td>\n",
       "      <td>0.648438</td>\n",
       "      <td>0.158911</td>\n",
       "      <td>-0.388706</td>\n",
       "      <td>0.987777</td>\n",
       "      <td>0.601190</td>\n",
       "      <td>...</td>\n",
       "      <td>0.525487</td>\n",
       "      <td>-0.142604</td>\n",
       "      <td>0.941713</td>\n",
       "      <td>0.311903</td>\n",
       "      <td>0.525487</td>\n",
       "      <td>-0.142604</td>\n",
       "      <td>0.941713</td>\n",
       "      <td>0.0</td>\n",
       "      <td>0.0</td>\n",
       "      <td>0.0</td>\n",
       "    </tr>\n",
       "    <tr>\n",
       "      <th>2</th>\n",
       "      <td>celinguk</td>\n",
       "      <td>0.485780</td>\n",
       "      <td>0.217672</td>\n",
       "      <td>-0.780860</td>\n",
       "      <td>0.996510</td>\n",
       "      <td>0.578979</td>\n",
       "      <td>0.168560</td>\n",
       "      <td>-0.718592</td>\n",
       "      <td>0.986905</td>\n",
       "      <td>0.490544</td>\n",
       "      <td>...</td>\n",
       "      <td>0.577168</td>\n",
       "      <td>-0.192743</td>\n",
       "      <td>0.966556</td>\n",
       "      <td>0.330957</td>\n",
       "      <td>0.577168</td>\n",
       "      <td>-0.192743</td>\n",
       "      <td>0.966556</td>\n",
       "      <td>2.0</td>\n",
       "      <td>0.0</td>\n",
       "      <td>0.0</td>\n",
       "    </tr>\n",
       "  </tbody>\n",
       "</table>\n",
       "<p>3 rows × 346 columns</p>\n",
       "</div>"
      ],
      "text/plain": [
       "      class        x1        y1        z1        v1        x2        y2  \\\n",
       "0  celinguk  0.452516  0.177898 -0.904605  0.999882  0.516650  0.137372   \n",
       "1  celinguk  0.687073  0.188956 -0.612002  0.996062  0.648438  0.158911   \n",
       "2  celinguk  0.485780  0.217672 -0.780860  0.996510  0.578979  0.168560   \n",
       "\n",
       "         z2        v2        x3  ...       y74       z74       v74       x75  \\\n",
       "0 -0.673349  0.999341  0.422173  ...  0.609458 -0.498302  0.967000  0.330829   \n",
       "1 -0.388706  0.987777  0.601190  ...  0.525487 -0.142604  0.941713  0.311903   \n",
       "2 -0.718592  0.986905  0.490544  ...  0.577168 -0.192743  0.966556  0.330957   \n",
       "\n",
       "        y75       z75       v75  face_d75  face_s75  hand_s75  \n",
       "0  0.609458 -0.498302  0.967000       2.0       0.0       0.0  \n",
       "1  0.525487 -0.142604  0.941713       0.0       0.0       0.0  \n",
       "2  0.577168 -0.192743  0.966556       2.0       0.0       0.0  \n",
       "\n",
       "[3 rows x 346 columns]"
      ]
     },
     "execution_count": 4,
     "metadata": {},
     "output_type": "execute_result"
    }
   ],
   "source": [
    "df = pd.read_csv('../../dataset/csv/dataset_v1.csv')\n",
    "df.head(3)\n"
   ]
  },
  {
   "cell_type": "code",
   "execution_count": 5,
   "id": "ba2cd854",
   "metadata": {},
   "outputs": [
    {
     "data": {
      "text/plain": [
       "class\n",
       "celinguk       50\n",
       "diam           50\n",
       "nodong         50\n",
       "tutupmuka      50\n",
       "tutuptangan    50\n",
       "Name: count, dtype: int64"
      ]
     },
     "execution_count": 5,
     "metadata": {},
     "output_type": "execute_result"
    }
   ],
   "source": [
    "df['class'].value_counts()\n",
    "\n"
   ]
  },
  {
   "cell_type": "code",
   "execution_count": 6,
   "id": "0797f1c3",
   "metadata": {},
   "outputs": [
    {
     "name": "stdout",
     "output_type": "stream",
     "text": [
      "Train set size: 212\n",
      "Test set size: 38\n"
     ]
    },
    {
     "data": {
      "text/plain": [
       "202    tutuptangan\n",
       "94            diam\n",
       "31        celinguk\n",
       "246    tutuptangan\n",
       "215    tutuptangan\n",
       "6         celinguk\n",
       "91            diam\n",
       "73            diam\n",
       "129         nodong\n",
       "5         celinguk\n",
       "136         nodong\n",
       "111         nodong\n",
       "161      tutupmuka\n",
       "74            diam\n",
       "48        celinguk\n",
       "65            diam\n",
       "7         celinguk\n",
       "218    tutuptangan\n",
       "32        celinguk\n",
       "63            diam\n",
       "132         nodong\n",
       "97            diam\n",
       "51            diam\n",
       "122         nodong\n",
       "9         celinguk\n",
       "145         nodong\n",
       "110         nodong\n",
       "196      tutupmuka\n",
       "52            diam\n",
       "238    tutuptangan\n",
       "29        celinguk\n",
       "131         nodong\n",
       "125         nodong\n",
       "141         nodong\n",
       "235    tutuptangan\n",
       "164      tutupmuka\n",
       "245    tutuptangan\n",
       "95            diam\n",
       "Name: class, dtype: object"
      ]
     },
     "execution_count": 6,
     "metadata": {},
     "output_type": "execute_result"
    }
   ],
   "source": [
    "X = df.drop('class', axis=1) # features\n",
    "y = df['class'] # target value\n",
    "\n",
    "X_train, X_test, y_train, y_test = train_test_split(X, y, test_size=0.15, random_state=1234)\n",
    "\n",
    "print(f\"Train set size: {X_train.shape[0]}\")\n",
    "print(f\"Test set size: {X_test.shape[0]}\")\n",
    "y_test"
   ]
  },
  {
   "cell_type": "markdown",
   "id": "0c6fdaa2",
   "metadata": {},
   "source": [
    "# Training Model : LSTM SINGLE"
   ]
  },
  {
   "cell_type": "code",
   "execution_count": 7,
   "id": "9667ef4d",
   "metadata": {},
   "outputs": [],
   "source": [
    "# Separate features (X) and labels (y)\n",
    "X_raw = df.iloc[:, 1:].values\n",
    "y_raw = df['class'].values\n",
    "\n",
    "# Encode Labels (for multi-class classification)\n",
    "# Assuming 'diam' is just one class and there might be others in a full dataset\n",
    "label_encoder = LabelEncoder()\n",
    "y_encoded = label_encoder.fit_transform(y_raw)\n",
    "N_CLASSES = len(label_encoder.classes_)\n",
    "\n",
    "# Scale Features\n",
    "scaler = StandardScaler()\n",
    "X_scaled = scaler.fit_transform(X_raw)"
   ]
  },
  {
   "cell_type": "code",
   "execution_count": 8,
   "id": "88ae81dc",
   "metadata": {},
   "outputs": [],
   "source": [
    "# Reshape for LSTM (Single Timestep) ---\n",
    "# Format: [samples, timesteps, features]\n",
    "N_SAMPLES = X_scaled.shape[0]\n",
    "N_FEATURES_PER_SAMPLE = X_scaled.shape[1]\n",
    "N_TIMESTEPS = 1 # Each row is treated as one observation with one timestep\n",
    "\n",
    "X_reshaped = X_scaled.reshape(N_SAMPLES, N_TIMESTEPS, N_FEATURES_PER_SAMPLE)"
   ]
  },
  {
   "cell_type": "code",
   "execution_count": 9,
   "id": "621194ef",
   "metadata": {},
   "outputs": [],
   "source": [
    "if N_CLASSES > 2:\n",
    "    y_final = tf.keras.utils.to_categorical(y_encoded, num_classes=N_CLASSES)\n",
    "    loss_fn = 'categorical_crossentropy'\n",
    "    output_activation = 'softmax'\n",
    "else:\n",
    "    # If it's effectively binary (N_CLASSES=2), we still use sparse_categorical_crossentropy \n",
    "    # since we kept y_encoded as integer labels\n",
    "    y_final = y_encoded\n",
    "    loss_fn = 'sparse_categorical_crossentropy'\n",
    "    # If N_CLASSES=2, the Dense layer should have 1 unit with 'sigmoid' for binary_crossentropy\n",
    "    # or N_CLASSES units with 'softmax' for categorical_crossentropy. \n",
    "    # Since we use sparse_categorical_crossentropy with integer labels, N_CLASSES with 'softmax' is safest.\n",
    "    output_activation = 'softmax'"
   ]
  },
  {
   "cell_type": "code",
   "execution_count": 10,
   "id": "0008bb57",
   "metadata": {},
   "outputs": [],
   "source": [
    "X_train, X_test, y_train, y_test = train_test_split(\n",
    "    X_reshaped, y_final, test_size=0.2, random_state=42, stratify=y_final\n",
    ")"
   ]
  },
  {
   "cell_type": "code",
   "execution_count": 11,
   "id": "4cbc0a13",
   "metadata": {},
   "outputs": [
    {
     "name": "stderr",
     "output_type": "stream",
     "text": [
      "WARNING: All log messages before absl::InitializeLog() is called are written to STDERR\n",
      "I0000 00:00:1761546666.822386   74247 gpu_device.cc:2020] Created device /job:localhost/replica:0/task:0/device:GPU:0 with 3539 MB memory:  -> device: 0, name: NVIDIA GeForce RTX 4050 Laptop GPU, pci bus id: 0000:01:00.0, compute capability: 8.9\n",
      "/mnt/c/users/nawfal/documents/apps/Collaborative_Project/suspicious_detection/.venv/lib/python3.10/site-packages/keras/src/layers/rnn/rnn.py:199: UserWarning: Do not pass an `input_shape`/`input_dim` argument to a layer. When using Sequential models, prefer using an `Input(shape)` object as the first layer in the model instead.\n",
      "  super().__init__(**kwargs)\n"
     ]
    }
   ],
   "source": [
    "lstm_model = Sequential([\n",
    "    # Single LSTM Layer (no return_sequences since it's the last recurrent layer)\n",
    "    LSTM(units=128, activation='relu', input_shape=(N_TIMESTEPS, N_FEATURES_PER_SAMPLE)),\n",
    "    Dropout(0.3),\n",
    "    # Output Dense layer\n",
    "    Dense(units=N_CLASSES, activation=output_activation)\n",
    "])"
   ]
  },
  {
   "cell_type": "code",
   "execution_count": 12,
   "id": "995731b2",
   "metadata": {},
   "outputs": [
    {
     "name": "stdout",
     "output_type": "stream",
     "text": [
      "\n",
      "Model Input Shape: (1, 345)\n",
      "Model Output Classes: 5\n",
      "------------------------------\n"
     ]
    },
    {
     "data": {
      "text/html": [
       "<pre style=\"white-space:pre;overflow-x:auto;line-height:normal;font-family:Menlo,'DejaVu Sans Mono',consolas,'Courier New',monospace\"><span style=\"font-weight: bold\">Model: \"sequential\"</span>\n",
       "</pre>\n"
      ],
      "text/plain": [
       "\u001b[1mModel: \"sequential\"\u001b[0m\n"
      ]
     },
     "metadata": {},
     "output_type": "display_data"
    },
    {
     "data": {
      "text/html": [
       "<pre style=\"white-space:pre;overflow-x:auto;line-height:normal;font-family:Menlo,'DejaVu Sans Mono',consolas,'Courier New',monospace\">┏━━━━━━━━━━━━━━━━━━━━━━━━━━━━━━━━━┳━━━━━━━━━━━━━━━━━━━━━━━━┳━━━━━━━━━━━━━━━┓\n",
       "┃<span style=\"font-weight: bold\"> Layer (type)                    </span>┃<span style=\"font-weight: bold\"> Output Shape           </span>┃<span style=\"font-weight: bold\">       Param # </span>┃\n",
       "┡━━━━━━━━━━━━━━━━━━━━━━━━━━━━━━━━━╇━━━━━━━━━━━━━━━━━━━━━━━━╇━━━━━━━━━━━━━━━┩\n",
       "│ lstm (<span style=\"color: #0087ff; text-decoration-color: #0087ff\">LSTM</span>)                     │ (<span style=\"color: #00d7ff; text-decoration-color: #00d7ff\">None</span>, <span style=\"color: #00af00; text-decoration-color: #00af00\">128</span>)            │       <span style=\"color: #00af00; text-decoration-color: #00af00\">242,688</span> │\n",
       "├─────────────────────────────────┼────────────────────────┼───────────────┤\n",
       "│ dropout (<span style=\"color: #0087ff; text-decoration-color: #0087ff\">Dropout</span>)               │ (<span style=\"color: #00d7ff; text-decoration-color: #00d7ff\">None</span>, <span style=\"color: #00af00; text-decoration-color: #00af00\">128</span>)            │             <span style=\"color: #00af00; text-decoration-color: #00af00\">0</span> │\n",
       "├─────────────────────────────────┼────────────────────────┼───────────────┤\n",
       "│ dense (<span style=\"color: #0087ff; text-decoration-color: #0087ff\">Dense</span>)                   │ (<span style=\"color: #00d7ff; text-decoration-color: #00d7ff\">None</span>, <span style=\"color: #00af00; text-decoration-color: #00af00\">5</span>)              │           <span style=\"color: #00af00; text-decoration-color: #00af00\">645</span> │\n",
       "└─────────────────────────────────┴────────────────────────┴───────────────┘\n",
       "</pre>\n"
      ],
      "text/plain": [
       "┏━━━━━━━━━━━━━━━━━━━━━━━━━━━━━━━━━┳━━━━━━━━━━━━━━━━━━━━━━━━┳━━━━━━━━━━━━━━━┓\n",
       "┃\u001b[1m \u001b[0m\u001b[1mLayer (type)                   \u001b[0m\u001b[1m \u001b[0m┃\u001b[1m \u001b[0m\u001b[1mOutput Shape          \u001b[0m\u001b[1m \u001b[0m┃\u001b[1m \u001b[0m\u001b[1m      Param #\u001b[0m\u001b[1m \u001b[0m┃\n",
       "┡━━━━━━━━━━━━━━━━━━━━━━━━━━━━━━━━━╇━━━━━━━━━━━━━━━━━━━━━━━━╇━━━━━━━━━━━━━━━┩\n",
       "│ lstm (\u001b[38;5;33mLSTM\u001b[0m)                     │ (\u001b[38;5;45mNone\u001b[0m, \u001b[38;5;34m128\u001b[0m)            │       \u001b[38;5;34m242,688\u001b[0m │\n",
       "├─────────────────────────────────┼────────────────────────┼───────────────┤\n",
       "│ dropout (\u001b[38;5;33mDropout\u001b[0m)               │ (\u001b[38;5;45mNone\u001b[0m, \u001b[38;5;34m128\u001b[0m)            │             \u001b[38;5;34m0\u001b[0m │\n",
       "├─────────────────────────────────┼────────────────────────┼───────────────┤\n",
       "│ dense (\u001b[38;5;33mDense\u001b[0m)                   │ (\u001b[38;5;45mNone\u001b[0m, \u001b[38;5;34m5\u001b[0m)              │           \u001b[38;5;34m645\u001b[0m │\n",
       "└─────────────────────────────────┴────────────────────────┴───────────────┘\n"
      ]
     },
     "metadata": {},
     "output_type": "display_data"
    },
    {
     "data": {
      "text/html": [
       "<pre style=\"white-space:pre;overflow-x:auto;line-height:normal;font-family:Menlo,'DejaVu Sans Mono',consolas,'Courier New',monospace\"><span style=\"font-weight: bold\"> Total params: </span><span style=\"color: #00af00; text-decoration-color: #00af00\">243,333</span> (950.52 KB)\n",
       "</pre>\n"
      ],
      "text/plain": [
       "\u001b[1m Total params: \u001b[0m\u001b[38;5;34m243,333\u001b[0m (950.52 KB)\n"
      ]
     },
     "metadata": {},
     "output_type": "display_data"
    },
    {
     "data": {
      "text/html": [
       "<pre style=\"white-space:pre;overflow-x:auto;line-height:normal;font-family:Menlo,'DejaVu Sans Mono',consolas,'Courier New',monospace\"><span style=\"font-weight: bold\"> Trainable params: </span><span style=\"color: #00af00; text-decoration-color: #00af00\">243,333</span> (950.52 KB)\n",
       "</pre>\n"
      ],
      "text/plain": [
       "\u001b[1m Trainable params: \u001b[0m\u001b[38;5;34m243,333\u001b[0m (950.52 KB)\n"
      ]
     },
     "metadata": {},
     "output_type": "display_data"
    },
    {
     "data": {
      "text/html": [
       "<pre style=\"white-space:pre;overflow-x:auto;line-height:normal;font-family:Menlo,'DejaVu Sans Mono',consolas,'Courier New',monospace\"><span style=\"font-weight: bold\"> Non-trainable params: </span><span style=\"color: #00af00; text-decoration-color: #00af00\">0</span> (0.00 B)\n",
       "</pre>\n"
      ],
      "text/plain": [
       "\u001b[1m Non-trainable params: \u001b[0m\u001b[38;5;34m0\u001b[0m (0.00 B)\n"
      ]
     },
     "metadata": {},
     "output_type": "display_data"
    },
    {
     "name": "stdout",
     "output_type": "stream",
     "text": [
      "------------------------------\n",
      "Starting Model Training...\n"
     ]
    },
    {
     "name": "stderr",
     "output_type": "stream",
     "text": [
      "2025-10-27 14:31:11.172316: I external/local_xla/xla/service/service.cc:163] XLA service 0x7690f8003c50 initialized for platform CUDA (this does not guarantee that XLA will be used). Devices:\n",
      "2025-10-27 14:31:11.172379: I external/local_xla/xla/service/service.cc:171]   StreamExecutor device (0): NVIDIA GeForce RTX 4050 Laptop GPU, Compute Capability 8.9\n",
      "2025-10-27 14:31:11.287535: I tensorflow/compiler/mlir/tensorflow/utils/dump_mlir_util.cc:269] disabling MLIR crash reproducer, set env var `MLIR_CRASH_REPRODUCER_DIRECTORY` to enable.\n",
      "2025-10-27 14:31:11.628126: I external/local_xla/xla/stream_executor/cuda/cuda_dnn.cc:473] Loaded cuDNN version 91002\n",
      "I0000 00:00:1761546673.873871   74726 device_compiler.h:196] Compiled cluster using XLA!  This line is logged at most once for the lifetime of the process.\n"
     ]
    },
    {
     "name": "stdout",
     "output_type": "stream",
     "text": [
      "Model Training Complete.\n",
      "------------------------------\n"
     ]
    }
   ],
   "source": [
    "lstm_model.compile(\n",
    "    optimizer='adam',\n",
    "    loss=loss_fn,\n",
    "    metrics=['accuracy']\n",
    ")\n",
    "\n",
    "print(f\"\\nModel Input Shape: {X_train.shape[1:]}\")\n",
    "print(f\"Model Output Classes: {N_CLASSES}\")\n",
    "print(\"-\" * 30)\n",
    "lstm_model.summary()\n",
    "print(\"-\" * 30)\n",
    "\n",
    "# Training (using the split training data)\n",
    "print(\"Starting Model Training...\")\n",
    "lstm_model.fit(\n",
    "    X_train,\n",
    "    y_train,\n",
    "    epochs=10,\n",
    "    batch_size=4,\n",
    "    verbose=0\n",
    ")\n",
    "print(\"Model Training Complete.\")\n",
    "print(\"-\" * 30)"
   ]
  },
  {
   "cell_type": "code",
   "execution_count": 14,
   "id": "3c97571b",
   "metadata": {},
   "outputs": [
    {
     "name": "stdout",
     "output_type": "stream",
     "text": [
      "Preprocessing artifacts (Scaler, Encoder) saved to: lstm_model_v1.pkl\n",
      "Trained Keras model weights saved to: ../../model/trained/lstm_s/single_lstm_weights_v1.keras\n",
      "\n",
      "To load and use this model, you'll need both files and the TensorFlow code to load the .keras file.\n"
     ]
    }
   ],
   "source": [
    "# Since TensorFlow models don't pickle reliably, we save the trained \n",
    "# Keras model separately and then pickle a dictionary containing the necessary \n",
    "# preprocessing objects.\n",
    "\n",
    "PICKLE_FILENAME = f'lstm_model_{VERSION}.pkl'\n",
    "KERAS_MODEL_FILENAME = f'../../model/trained/lstm_s/single_lstm_weights_{VERSION}.keras'\n",
    "\n",
    "# 8a. Save the Keras model in its native format\n",
    "lstm_model.save(KERAS_MODEL_FILENAME)\n",
    "\n",
    "# 8b. Create a dictionary of necessary artifacts\n",
    "artifacts = {\n",
    "    'scaler': scaler,\n",
    "    'label_encoder': label_encoder,\n",
    "    'model_filename': KERAS_MODEL_FILENAME,\n",
    "    'input_shape': X_train.shape[1:],\n",
    "    'num_classes': N_CLASSES\n",
    "}\n",
    "\n",
    "# 8c. Pickle the artifacts dictionary\n",
    "with open(f'../../model/trained/lstm_s/{PICKLE_FILENAME}', 'wb') as file:\n",
    "    pickle.dump(artifacts, file)\n",
    "\n",
    "print(f\"Preprocessing artifacts (Scaler, Encoder) saved to: {PICKLE_FILENAME}\")\n",
    "print(f\"Trained Keras model weights saved to: {KERAS_MODEL_FILENAME}\")\n",
    "print(\"\\nTo load and use this model, you'll need both files and the TensorFlow code to load the .keras file.\")"
   ]
  },
  {
   "cell_type": "markdown",
   "id": "2f89ed61",
   "metadata": {},
   "source": [
    "# BILSTM : Training Model"
   ]
  },
  {
   "cell_type": "code",
   "execution_count": 15,
   "id": "73c68318",
   "metadata": {},
   "outputs": [
    {
     "name": "stderr",
     "output_type": "stream",
     "text": [
      "/mnt/c/users/nawfal/documents/apps/Collaborative_Project/suspicious_detection/.venv/lib/python3.10/site-packages/keras/src/layers/rnn/bidirectional.py:107: UserWarning: Do not pass an `input_shape`/`input_dim` argument to a layer. When using Sequential models, prefer using an `Input(shape)` object as the first layer in the model instead.\n",
      "  super().__init__(**kwargs)\n"
     ]
    }
   ],
   "source": [
    "bilstm_model = Sequential([\n",
    "    # Bi-LSTM Layer: Wrap LSTM in Bidirectional\n",
    "    Bidirectional(LSTM(\n",
    "        units=128,          # Number of units for EACH direction (Forward and Backward)\n",
    "        activation='relu'\n",
    "    ), input_shape=(N_TIMESTEPS, N_FEATURES_PER_SAMPLE)),\n",
    "    \n",
    "    Dropout(0.3),\n",
    "    \n",
    "    # Dense layers for classification\n",
    "    Dense(units=64, activation='relu'),\n",
    "    Dense(units=N_CLASSES, activation=output_activation)\n",
    "])"
   ]
  },
  {
   "cell_type": "code",
   "execution_count": 16,
   "id": "facc6382",
   "metadata": {},
   "outputs": [
    {
     "name": "stdout",
     "output_type": "stream",
     "text": [
      "Model Input Shape: (1, 345)\n",
      "Model Output Classes: 5\n",
      "--------------------------------------------------\n"
     ]
    },
    {
     "data": {
      "text/html": [
       "<pre style=\"white-space:pre;overflow-x:auto;line-height:normal;font-family:Menlo,'DejaVu Sans Mono',consolas,'Courier New',monospace\"><span style=\"font-weight: bold\">Model: \"sequential_1\"</span>\n",
       "</pre>\n"
      ],
      "text/plain": [
       "\u001b[1mModel: \"sequential_1\"\u001b[0m\n"
      ]
     },
     "metadata": {},
     "output_type": "display_data"
    },
    {
     "data": {
      "text/html": [
       "<pre style=\"white-space:pre;overflow-x:auto;line-height:normal;font-family:Menlo,'DejaVu Sans Mono',consolas,'Courier New',monospace\">┏━━━━━━━━━━━━━━━━━━━━━━━━━━━━━━━━━┳━━━━━━━━━━━━━━━━━━━━━━━━┳━━━━━━━━━━━━━━━┓\n",
       "┃<span style=\"font-weight: bold\"> Layer (type)                    </span>┃<span style=\"font-weight: bold\"> Output Shape           </span>┃<span style=\"font-weight: bold\">       Param # </span>┃\n",
       "┡━━━━━━━━━━━━━━━━━━━━━━━━━━━━━━━━━╇━━━━━━━━━━━━━━━━━━━━━━━━╇━━━━━━━━━━━━━━━┩\n",
       "│ bidirectional (<span style=\"color: #0087ff; text-decoration-color: #0087ff\">Bidirectional</span>)   │ (<span style=\"color: #00d7ff; text-decoration-color: #00d7ff\">None</span>, <span style=\"color: #00af00; text-decoration-color: #00af00\">256</span>)            │       <span style=\"color: #00af00; text-decoration-color: #00af00\">485,376</span> │\n",
       "├─────────────────────────────────┼────────────────────────┼───────────────┤\n",
       "│ dropout_1 (<span style=\"color: #0087ff; text-decoration-color: #0087ff\">Dropout</span>)             │ (<span style=\"color: #00d7ff; text-decoration-color: #00d7ff\">None</span>, <span style=\"color: #00af00; text-decoration-color: #00af00\">256</span>)            │             <span style=\"color: #00af00; text-decoration-color: #00af00\">0</span> │\n",
       "├─────────────────────────────────┼────────────────────────┼───────────────┤\n",
       "│ dense_1 (<span style=\"color: #0087ff; text-decoration-color: #0087ff\">Dense</span>)                 │ (<span style=\"color: #00d7ff; text-decoration-color: #00d7ff\">None</span>, <span style=\"color: #00af00; text-decoration-color: #00af00\">64</span>)             │        <span style=\"color: #00af00; text-decoration-color: #00af00\">16,448</span> │\n",
       "├─────────────────────────────────┼────────────────────────┼───────────────┤\n",
       "│ dense_2 (<span style=\"color: #0087ff; text-decoration-color: #0087ff\">Dense</span>)                 │ (<span style=\"color: #00d7ff; text-decoration-color: #00d7ff\">None</span>, <span style=\"color: #00af00; text-decoration-color: #00af00\">5</span>)              │           <span style=\"color: #00af00; text-decoration-color: #00af00\">325</span> │\n",
       "└─────────────────────────────────┴────────────────────────┴───────────────┘\n",
       "</pre>\n"
      ],
      "text/plain": [
       "┏━━━━━━━━━━━━━━━━━━━━━━━━━━━━━━━━━┳━━━━━━━━━━━━━━━━━━━━━━━━┳━━━━━━━━━━━━━━━┓\n",
       "┃\u001b[1m \u001b[0m\u001b[1mLayer (type)                   \u001b[0m\u001b[1m \u001b[0m┃\u001b[1m \u001b[0m\u001b[1mOutput Shape          \u001b[0m\u001b[1m \u001b[0m┃\u001b[1m \u001b[0m\u001b[1m      Param #\u001b[0m\u001b[1m \u001b[0m┃\n",
       "┡━━━━━━━━━━━━━━━━━━━━━━━━━━━━━━━━━╇━━━━━━━━━━━━━━━━━━━━━━━━╇━━━━━━━━━━━━━━━┩\n",
       "│ bidirectional (\u001b[38;5;33mBidirectional\u001b[0m)   │ (\u001b[38;5;45mNone\u001b[0m, \u001b[38;5;34m256\u001b[0m)            │       \u001b[38;5;34m485,376\u001b[0m │\n",
       "├─────────────────────────────────┼────────────────────────┼───────────────┤\n",
       "│ dropout_1 (\u001b[38;5;33mDropout\u001b[0m)             │ (\u001b[38;5;45mNone\u001b[0m, \u001b[38;5;34m256\u001b[0m)            │             \u001b[38;5;34m0\u001b[0m │\n",
       "├─────────────────────────────────┼────────────────────────┼───────────────┤\n",
       "│ dense_1 (\u001b[38;5;33mDense\u001b[0m)                 │ (\u001b[38;5;45mNone\u001b[0m, \u001b[38;5;34m64\u001b[0m)             │        \u001b[38;5;34m16,448\u001b[0m │\n",
       "├─────────────────────────────────┼────────────────────────┼───────────────┤\n",
       "│ dense_2 (\u001b[38;5;33mDense\u001b[0m)                 │ (\u001b[38;5;45mNone\u001b[0m, \u001b[38;5;34m5\u001b[0m)              │           \u001b[38;5;34m325\u001b[0m │\n",
       "└─────────────────────────────────┴────────────────────────┴───────────────┘\n"
      ]
     },
     "metadata": {},
     "output_type": "display_data"
    },
    {
     "data": {
      "text/html": [
       "<pre style=\"white-space:pre;overflow-x:auto;line-height:normal;font-family:Menlo,'DejaVu Sans Mono',consolas,'Courier New',monospace\"><span style=\"font-weight: bold\"> Total params: </span><span style=\"color: #00af00; text-decoration-color: #00af00\">502,149</span> (1.92 MB)\n",
       "</pre>\n"
      ],
      "text/plain": [
       "\u001b[1m Total params: \u001b[0m\u001b[38;5;34m502,149\u001b[0m (1.92 MB)\n"
      ]
     },
     "metadata": {},
     "output_type": "display_data"
    },
    {
     "data": {
      "text/html": [
       "<pre style=\"white-space:pre;overflow-x:auto;line-height:normal;font-family:Menlo,'DejaVu Sans Mono',consolas,'Courier New',monospace\"><span style=\"font-weight: bold\"> Trainable params: </span><span style=\"color: #00af00; text-decoration-color: #00af00\">502,149</span> (1.92 MB)\n",
       "</pre>\n"
      ],
      "text/plain": [
       "\u001b[1m Trainable params: \u001b[0m\u001b[38;5;34m502,149\u001b[0m (1.92 MB)\n"
      ]
     },
     "metadata": {},
     "output_type": "display_data"
    },
    {
     "data": {
      "text/html": [
       "<pre style=\"white-space:pre;overflow-x:auto;line-height:normal;font-family:Menlo,'DejaVu Sans Mono',consolas,'Courier New',monospace\"><span style=\"font-weight: bold\"> Non-trainable params: </span><span style=\"color: #00af00; text-decoration-color: #00af00\">0</span> (0.00 B)\n",
       "</pre>\n"
      ],
      "text/plain": [
       "\u001b[1m Non-trainable params: \u001b[0m\u001b[38;5;34m0\u001b[0m (0.00 B)\n"
      ]
     },
     "metadata": {},
     "output_type": "display_data"
    },
    {
     "name": "stdout",
     "output_type": "stream",
     "text": [
      "--------------------------------------------------\n",
      "Starting BiLSTM Model Training...\n",
      "Model Training Complete.\n",
      "--------------------------------------------------\n"
     ]
    },
    {
     "name": "stderr",
     "output_type": "stream",
     "text": [
      "2025-10-27 14:32:22.929258: I external/local_xla/xla/service/gpu/autotuning/dot_search_space.cc:208] All configs were filtered out because none of them sufficiently match the hints. Maybe the hints set does not contain a good representative set of valid configs? Working around this by using the full hints set instead.\n",
      "2025-10-27 14:32:25.432033: I external/local_xla/xla/service/gpu/autotuning/dot_search_space.cc:208] All configs were filtered out because none of them sufficiently match the hints. Maybe the hints set does not contain a good representative set of valid configs? Working around this by using the full hints set instead.\n"
     ]
    },
    {
     "name": "stdout",
     "output_type": "stream",
     "text": [
      "Test Accuracy: 98.00%\n",
      "--------------------------------------------------\n"
     ]
    }
   ],
   "source": [
    "bilstm_model.compile(\n",
    "    optimizer='adam',\n",
    "    loss=loss_fn,\n",
    "    metrics=['accuracy']\n",
    ")\n",
    "\n",
    "print(f\"Model Input Shape: {X_train.shape[1:]}\")\n",
    "print(f\"Model Output Classes: {N_CLASSES}\")\n",
    "print(\"-\" * 50)\n",
    "bilstm_model.summary()\n",
    "print(\"-\" * 50)\n",
    "\n",
    "print(\"Starting BiLSTM Model Training...\")\n",
    "# Train the model\n",
    "bilstm_model.fit(\n",
    "    X_train,\n",
    "    y_train,\n",
    "    epochs=10,\n",
    "    batch_size=4,\n",
    "    validation_data=(X_test, y_test),\n",
    "    verbose=0\n",
    ")\n",
    "print(\"Model Training Complete.\")\n",
    "print(\"-\" * 50)\n",
    "\n",
    "# Evaluate the model\n",
    "loss, accuracy = bilstm_model.evaluate(X_test, y_test, verbose=0)\n",
    "print(f\"Test Accuracy: {accuracy*100:.2f}%\")\n",
    "print(\"-\" * 50)"
   ]
  },
  {
   "cell_type": "code",
   "execution_count": 17,
   "id": "14dbd4cf",
   "metadata": {},
   "outputs": [
    {
     "name": "stdout",
     "output_type": "stream",
     "text": [
      "✅ BiLSTM Keras model weights saved to: bi_lstm_weights_v1.keras\n",
      "✅ Preprocessing artifacts (Scaler, Encoder) saved to: bi_lstm_model_v1.pkl\n"
     ]
    }
   ],
   "source": [
    "\n",
    "PICKLE_FILENAME = f'bi_lstm_model_{VERSION}.pkl'\n",
    "KERAS_MODEL_FILENAME = f'bi_lstm_weights_{VERSION}.keras'# Recommended native Keras format\n",
    "\n",
    "# 4a. Save the Keras model in its native format\n",
    "bilstm_model.save(f'../../model/trained/lstm_bi/{KERAS_MODEL_FILENAME}')\n",
    "\n",
    "# 4b. Create a dictionary of necessary artifacts (Scaler, Encoder, Model Path)\n",
    "artifacts = {\n",
    "    'scaler': scaler,\n",
    "    'label_encoder': label_encoder,\n",
    "    'model_filename': KERAS_MODEL_FILENAME,\n",
    "    'input_shape': X_train.shape[1:],\n",
    "    'num_classes': N_CLASSES\n",
    "}\n",
    "\n",
    "# 4c. Pickle the artifacts dictionary\n",
    "with open(f'../../model/trained/lstm_bi/{PICKLE_FILENAME}', 'wb') as file:\n",
    "    pickle.dump(artifacts, file)\n",
    "\n",
    "print(f\"✅ BiLSTM Keras model weights saved to: {KERAS_MODEL_FILENAME}\")\n",
    "print(f\"✅ Preprocessing artifacts (Scaler, Encoder) saved to: {PICKLE_FILENAME}\")"
   ]
  },
  {
   "cell_type": "markdown",
   "id": "ac85837b",
   "metadata": {},
   "source": [
    "# GRU : Training Model"
   ]
  },
  {
   "cell_type": "code",
   "execution_count": 18,
   "id": "46894b84",
   "metadata": {},
   "outputs": [],
   "source": [
    "# --- 2. Define the Single-Layer GRU Model ---\n",
    "gru_model = Sequential([\n",
    "    # GRU Layer - No Bidirectional wrapper requested, so it's unidirectional.\n",
    "    GRU(\n",
    "        units=128,          # Number of units in the GRU\n",
    "        activation='tanh',  # GRU default activation\n",
    "        input_shape=(N_TIMESTEPS, N_FEATURES_PER_SAMPLE)\n",
    "    ),\n",
    "    \n",
    "    Dropout(0.3),\n",
    "    \n",
    "    # Dense layers for classification\n",
    "    Dense(units=64, activation='relu'),\n",
    "    Dense(units=N_CLASSES, activation=output_activation)\n",
    "])"
   ]
  },
  {
   "cell_type": "code",
   "execution_count": 19,
   "id": "583f44ef",
   "metadata": {},
   "outputs": [
    {
     "name": "stdout",
     "output_type": "stream",
     "text": [
      "Model Input Shape: (1, 345)\n",
      "Model Output Classes: 5\n",
      "--------------------------------------------------\n"
     ]
    },
    {
     "data": {
      "text/html": [
       "<pre style=\"white-space:pre;overflow-x:auto;line-height:normal;font-family:Menlo,'DejaVu Sans Mono',consolas,'Courier New',monospace\"><span style=\"font-weight: bold\">Model: \"sequential_2\"</span>\n",
       "</pre>\n"
      ],
      "text/plain": [
       "\u001b[1mModel: \"sequential_2\"\u001b[0m\n"
      ]
     },
     "metadata": {},
     "output_type": "display_data"
    },
    {
     "data": {
      "text/html": [
       "<pre style=\"white-space:pre;overflow-x:auto;line-height:normal;font-family:Menlo,'DejaVu Sans Mono',consolas,'Courier New',monospace\">┏━━━━━━━━━━━━━━━━━━━━━━━━━━━━━━━━━┳━━━━━━━━━━━━━━━━━━━━━━━━┳━━━━━━━━━━━━━━━┓\n",
       "┃<span style=\"font-weight: bold\"> Layer (type)                    </span>┃<span style=\"font-weight: bold\"> Output Shape           </span>┃<span style=\"font-weight: bold\">       Param # </span>┃\n",
       "┡━━━━━━━━━━━━━━━━━━━━━━━━━━━━━━━━━╇━━━━━━━━━━━━━━━━━━━━━━━━╇━━━━━━━━━━━━━━━┩\n",
       "│ gru (<span style=\"color: #0087ff; text-decoration-color: #0087ff\">GRU</span>)                       │ (<span style=\"color: #00d7ff; text-decoration-color: #00d7ff\">None</span>, <span style=\"color: #00af00; text-decoration-color: #00af00\">128</span>)            │       <span style=\"color: #00af00; text-decoration-color: #00af00\">182,400</span> │\n",
       "├─────────────────────────────────┼────────────────────────┼───────────────┤\n",
       "│ dropout_2 (<span style=\"color: #0087ff; text-decoration-color: #0087ff\">Dropout</span>)             │ (<span style=\"color: #00d7ff; text-decoration-color: #00d7ff\">None</span>, <span style=\"color: #00af00; text-decoration-color: #00af00\">128</span>)            │             <span style=\"color: #00af00; text-decoration-color: #00af00\">0</span> │\n",
       "├─────────────────────────────────┼────────────────────────┼───────────────┤\n",
       "│ dense_3 (<span style=\"color: #0087ff; text-decoration-color: #0087ff\">Dense</span>)                 │ (<span style=\"color: #00d7ff; text-decoration-color: #00d7ff\">None</span>, <span style=\"color: #00af00; text-decoration-color: #00af00\">64</span>)             │         <span style=\"color: #00af00; text-decoration-color: #00af00\">8,256</span> │\n",
       "├─────────────────────────────────┼────────────────────────┼───────────────┤\n",
       "│ dense_4 (<span style=\"color: #0087ff; text-decoration-color: #0087ff\">Dense</span>)                 │ (<span style=\"color: #00d7ff; text-decoration-color: #00d7ff\">None</span>, <span style=\"color: #00af00; text-decoration-color: #00af00\">5</span>)              │           <span style=\"color: #00af00; text-decoration-color: #00af00\">325</span> │\n",
       "└─────────────────────────────────┴────────────────────────┴───────────────┘\n",
       "</pre>\n"
      ],
      "text/plain": [
       "┏━━━━━━━━━━━━━━━━━━━━━━━━━━━━━━━━━┳━━━━━━━━━━━━━━━━━━━━━━━━┳━━━━━━━━━━━━━━━┓\n",
       "┃\u001b[1m \u001b[0m\u001b[1mLayer (type)                   \u001b[0m\u001b[1m \u001b[0m┃\u001b[1m \u001b[0m\u001b[1mOutput Shape          \u001b[0m\u001b[1m \u001b[0m┃\u001b[1m \u001b[0m\u001b[1m      Param #\u001b[0m\u001b[1m \u001b[0m┃\n",
       "┡━━━━━━━━━━━━━━━━━━━━━━━━━━━━━━━━━╇━━━━━━━━━━━━━━━━━━━━━━━━╇━━━━━━━━━━━━━━━┩\n",
       "│ gru (\u001b[38;5;33mGRU\u001b[0m)                       │ (\u001b[38;5;45mNone\u001b[0m, \u001b[38;5;34m128\u001b[0m)            │       \u001b[38;5;34m182,400\u001b[0m │\n",
       "├─────────────────────────────────┼────────────────────────┼───────────────┤\n",
       "│ dropout_2 (\u001b[38;5;33mDropout\u001b[0m)             │ (\u001b[38;5;45mNone\u001b[0m, \u001b[38;5;34m128\u001b[0m)            │             \u001b[38;5;34m0\u001b[0m │\n",
       "├─────────────────────────────────┼────────────────────────┼───────────────┤\n",
       "│ dense_3 (\u001b[38;5;33mDense\u001b[0m)                 │ (\u001b[38;5;45mNone\u001b[0m, \u001b[38;5;34m64\u001b[0m)             │         \u001b[38;5;34m8,256\u001b[0m │\n",
       "├─────────────────────────────────┼────────────────────────┼───────────────┤\n",
       "│ dense_4 (\u001b[38;5;33mDense\u001b[0m)                 │ (\u001b[38;5;45mNone\u001b[0m, \u001b[38;5;34m5\u001b[0m)              │           \u001b[38;5;34m325\u001b[0m │\n",
       "└─────────────────────────────────┴────────────────────────┴───────────────┘\n"
      ]
     },
     "metadata": {},
     "output_type": "display_data"
    },
    {
     "data": {
      "text/html": [
       "<pre style=\"white-space:pre;overflow-x:auto;line-height:normal;font-family:Menlo,'DejaVu Sans Mono',consolas,'Courier New',monospace\"><span style=\"font-weight: bold\"> Total params: </span><span style=\"color: #00af00; text-decoration-color: #00af00\">190,981</span> (746.02 KB)\n",
       "</pre>\n"
      ],
      "text/plain": [
       "\u001b[1m Total params: \u001b[0m\u001b[38;5;34m190,981\u001b[0m (746.02 KB)\n"
      ]
     },
     "metadata": {},
     "output_type": "display_data"
    },
    {
     "data": {
      "text/html": [
       "<pre style=\"white-space:pre;overflow-x:auto;line-height:normal;font-family:Menlo,'DejaVu Sans Mono',consolas,'Courier New',monospace\"><span style=\"font-weight: bold\"> Trainable params: </span><span style=\"color: #00af00; text-decoration-color: #00af00\">190,981</span> (746.02 KB)\n",
       "</pre>\n"
      ],
      "text/plain": [
       "\u001b[1m Trainable params: \u001b[0m\u001b[38;5;34m190,981\u001b[0m (746.02 KB)\n"
      ]
     },
     "metadata": {},
     "output_type": "display_data"
    },
    {
     "data": {
      "text/html": [
       "<pre style=\"white-space:pre;overflow-x:auto;line-height:normal;font-family:Menlo,'DejaVu Sans Mono',consolas,'Courier New',monospace\"><span style=\"font-weight: bold\"> Non-trainable params: </span><span style=\"color: #00af00; text-decoration-color: #00af00\">0</span> (0.00 B)\n",
       "</pre>\n"
      ],
      "text/plain": [
       "\u001b[1m Non-trainable params: \u001b[0m\u001b[38;5;34m0\u001b[0m (0.00 B)\n"
      ]
     },
     "metadata": {},
     "output_type": "display_data"
    },
    {
     "name": "stdout",
     "output_type": "stream",
     "text": [
      "--------------------------------------------------\n",
      "Starting GRU Model Training...\n",
      "Model Training Complete.\n",
      "--------------------------------------------------\n",
      "Test Accuracy: 98.00%\n",
      "--------------------------------------------------\n"
     ]
    }
   ],
   "source": [
    "gru_model.compile(\n",
    "    optimizer='adam',\n",
    "    loss=loss_fn,\n",
    "    metrics=['accuracy']\n",
    ")\n",
    "\n",
    "print(f\"Model Input Shape: {X_train.shape[1:]}\")\n",
    "print(f\"Model Output Classes: {N_CLASSES}\")\n",
    "print(\"-\" * 50)\n",
    "gru_model.summary()\n",
    "print(\"-\" * 50)\n",
    "\n",
    "print(\"Starting GRU Model Training...\")\n",
    "# Train the model\n",
    "gru_model.fit(\n",
    "    X_train,\n",
    "    y_train,\n",
    "    epochs=10,\n",
    "    batch_size=4,\n",
    "    validation_data=(X_test, y_test),\n",
    "    verbose=0\n",
    ")\n",
    "print(\"Model Training Complete.\")\n",
    "print(\"-\" * 50)\n",
    "\n",
    "# Evaluate the model\n",
    "loss, accuracy = gru_model.evaluate(X_test, y_test, verbose=0)\n",
    "print(f\"Test Accuracy: {accuracy*100:.2f}%\")\n",
    "print(\"-\" * 50)"
   ]
  },
  {
   "cell_type": "code",
   "execution_count": 20,
   "id": "dc2ec181",
   "metadata": {},
   "outputs": [
    {
     "name": "stdout",
     "output_type": "stream",
     "text": [
      "✅ GRU Keras model weights saved to: gru_weights_v1.keras\n",
      "✅ Preprocessing artifacts (Scaler, Encoder) saved to: gru_model_v1.pkl\n"
     ]
    }
   ],
   "source": [
    "\n",
    "PICKLE_FILENAME = f'gru_model_{VERSION}.pkl'\n",
    "KERAS_MODEL_FILENAME = f'gru_weights_{VERSION}.keras'# Recommended native Keras format\n",
    "\n",
    "# 4a. Save the Keras model in its native format\n",
    "gru_model.save(f'../../model/trained/gru/{KERAS_MODEL_FILENAME}')\n",
    "\n",
    "# 4b. Create a dictionary of necessary artifacts (Scaler, Encoder, Model Path)\n",
    "artifacts = {\n",
    "    'scaler': scaler,\n",
    "    'label_encoder': label_encoder,\n",
    "    'model_filename': KERAS_MODEL_FILENAME,\n",
    "    'input_shape': X_train.shape[1:],\n",
    "    'num_classes': N_CLASSES\n",
    "}\n",
    "\n",
    "# 4c. Pickle the artifacts dictionary\n",
    "with open(f'../../model/trained/gru/{PICKLE_FILENAME}', 'wb') as file:\n",
    "    pickle.dump(artifacts, file)\n",
    "\n",
    "print(f\"✅ GRU Keras model weights saved to: {KERAS_MODEL_FILENAME}\")\n",
    "print(f\"✅ Preprocessing artifacts (Scaler, Encoder) saved to: {PICKLE_FILENAME}\")"
   ]
  },
  {
   "cell_type": "markdown",
   "id": "04e271cc",
   "metadata": {},
   "source": [
    "# NN : Training Model"
   ]
  },
  {
   "cell_type": "code",
   "execution_count": 29,
   "id": "bca8c43e",
   "metadata": {},
   "outputs": [],
   "source": [
    "# --- Configuration ---\n",
    "\n",
    "# Label Encoding\n",
    "label_encoder = LabelEncoder()\n",
    "y_encoded = label_encoder.fit_transform(y_raw)\n",
    "N_CLASSES = len(label_encoder.classes_)\n",
    "\n",
    "# Scaling (Crucial for Dense layers)\n",
    "scaler = StandardScaler()\n",
    "X_scaled = scaler.fit_transform(X_raw)\n",
    "\n",
    "N_FEATURES_PER_SAMPLE = X_scaled.shape[1]\n",
    "N_SAMPLES = X_scaled.shape[0]\n",
    "\n",
    "# Note: MLP/Dense layers expect 2D data: [samples, features]\n",
    "# We use X_scaled directly, NOT the 3D X_reshaped used for LSTMs/GRUs.\n",
    "X_flat = X_scaled\n",
    "\n",
    "# Final Output Preparation (Using sparse labels with softmax for consistency)\n",
    "y_final = y_encoded\n",
    "loss_fn = 'sparse_categorical_crossentropy'\n",
    "output_activation = 'softmax'\n",
    "\n",
    "# Split Data\n",
    "X_train, X_test, y_train, y_test = train_test_split(\n",
    "    X_flat, y_final, test_size=0.2, random_state=42, stratify=y_final\n",
    ")"
   ]
  },
  {
   "cell_type": "code",
   "execution_count": 30,
   "id": "6056abf5",
   "metadata": {},
   "outputs": [
    {
     "name": "stderr",
     "output_type": "stream",
     "text": [
      "/mnt/c/users/nawfal/documents/apps/Collaborative_Project/suspicious_detection/.venv/lib/python3.10/site-packages/keras/src/layers/core/dense.py:92: UserWarning: Do not pass an `input_shape`/`input_dim` argument to a layer. When using Sequential models, prefer using an `Input(shape)` object as the first layer in the model instead.\n",
      "  super().__init__(activity_regularizer=activity_regularizer, **kwargs)\n"
     ]
    }
   ],
   "source": [
    "nn_model = Sequential([\n",
    "    # Input layer and first Hidden Dense Layer\n",
    "    Dense(units=256, activation='relu', input_shape=(N_FEATURES_PER_SAMPLE,)),\n",
    "    Dropout(0.3),\n",
    "    \n",
    "    # Second Hidden Dense Layer\n",
    "    Dense(units=128, activation='relu'),\n",
    "    Dropout(0.3),\n",
    "    \n",
    "    # Output Dense layer (units = number of classes, activation = softmax for classification)\n",
    "    Dense(units=N_CLASSES, activation=output_activation)\n",
    "])"
   ]
  },
  {
   "cell_type": "code",
   "execution_count": 31,
   "id": "02cd90b1",
   "metadata": {},
   "outputs": [
    {
     "name": "stdout",
     "output_type": "stream",
     "text": [
      "Model Input Shape (NN/MLP): 345\n",
      "Model Output Classes: 5\n",
      "--------------------------------------------------\n"
     ]
    },
    {
     "data": {
      "text/html": [
       "<pre style=\"white-space:pre;overflow-x:auto;line-height:normal;font-family:Menlo,'DejaVu Sans Mono',consolas,'Courier New',monospace\"><span style=\"font-weight: bold\">Model: \"sequential_5\"</span>\n",
       "</pre>\n"
      ],
      "text/plain": [
       "\u001b[1mModel: \"sequential_5\"\u001b[0m\n"
      ]
     },
     "metadata": {},
     "output_type": "display_data"
    },
    {
     "data": {
      "text/html": [
       "<pre style=\"white-space:pre;overflow-x:auto;line-height:normal;font-family:Menlo,'DejaVu Sans Mono',consolas,'Courier New',monospace\">┏━━━━━━━━━━━━━━━━━━━━━━━━━━━━━━━━━┳━━━━━━━━━━━━━━━━━━━━━━━━┳━━━━━━━━━━━━━━━┓\n",
       "┃<span style=\"font-weight: bold\"> Layer (type)                    </span>┃<span style=\"font-weight: bold\"> Output Shape           </span>┃<span style=\"font-weight: bold\">       Param # </span>┃\n",
       "┡━━━━━━━━━━━━━━━━━━━━━━━━━━━━━━━━━╇━━━━━━━━━━━━━━━━━━━━━━━━╇━━━━━━━━━━━━━━━┩\n",
       "│ dense_11 (<span style=\"color: #0087ff; text-decoration-color: #0087ff\">Dense</span>)                │ (<span style=\"color: #00d7ff; text-decoration-color: #00d7ff\">None</span>, <span style=\"color: #00af00; text-decoration-color: #00af00\">256</span>)            │        <span style=\"color: #00af00; text-decoration-color: #00af00\">88,576</span> │\n",
       "├─────────────────────────────────┼────────────────────────┼───────────────┤\n",
       "│ dropout_7 (<span style=\"color: #0087ff; text-decoration-color: #0087ff\">Dropout</span>)             │ (<span style=\"color: #00d7ff; text-decoration-color: #00d7ff\">None</span>, <span style=\"color: #00af00; text-decoration-color: #00af00\">256</span>)            │             <span style=\"color: #00af00; text-decoration-color: #00af00\">0</span> │\n",
       "├─────────────────────────────────┼────────────────────────┼───────────────┤\n",
       "│ dense_12 (<span style=\"color: #0087ff; text-decoration-color: #0087ff\">Dense</span>)                │ (<span style=\"color: #00d7ff; text-decoration-color: #00d7ff\">None</span>, <span style=\"color: #00af00; text-decoration-color: #00af00\">128</span>)            │        <span style=\"color: #00af00; text-decoration-color: #00af00\">32,896</span> │\n",
       "├─────────────────────────────────┼────────────────────────┼───────────────┤\n",
       "│ dropout_8 (<span style=\"color: #0087ff; text-decoration-color: #0087ff\">Dropout</span>)             │ (<span style=\"color: #00d7ff; text-decoration-color: #00d7ff\">None</span>, <span style=\"color: #00af00; text-decoration-color: #00af00\">128</span>)            │             <span style=\"color: #00af00; text-decoration-color: #00af00\">0</span> │\n",
       "├─────────────────────────────────┼────────────────────────┼───────────────┤\n",
       "│ dense_13 (<span style=\"color: #0087ff; text-decoration-color: #0087ff\">Dense</span>)                │ (<span style=\"color: #00d7ff; text-decoration-color: #00d7ff\">None</span>, <span style=\"color: #00af00; text-decoration-color: #00af00\">5</span>)              │           <span style=\"color: #00af00; text-decoration-color: #00af00\">645</span> │\n",
       "└─────────────────────────────────┴────────────────────────┴───────────────┘\n",
       "</pre>\n"
      ],
      "text/plain": [
       "┏━━━━━━━━━━━━━━━━━━━━━━━━━━━━━━━━━┳━━━━━━━━━━━━━━━━━━━━━━━━┳━━━━━━━━━━━━━━━┓\n",
       "┃\u001b[1m \u001b[0m\u001b[1mLayer (type)                   \u001b[0m\u001b[1m \u001b[0m┃\u001b[1m \u001b[0m\u001b[1mOutput Shape          \u001b[0m\u001b[1m \u001b[0m┃\u001b[1m \u001b[0m\u001b[1m      Param #\u001b[0m\u001b[1m \u001b[0m┃\n",
       "┡━━━━━━━━━━━━━━━━━━━━━━━━━━━━━━━━━╇━━━━━━━━━━━━━━━━━━━━━━━━╇━━━━━━━━━━━━━━━┩\n",
       "│ dense_11 (\u001b[38;5;33mDense\u001b[0m)                │ (\u001b[38;5;45mNone\u001b[0m, \u001b[38;5;34m256\u001b[0m)            │        \u001b[38;5;34m88,576\u001b[0m │\n",
       "├─────────────────────────────────┼────────────────────────┼───────────────┤\n",
       "│ dropout_7 (\u001b[38;5;33mDropout\u001b[0m)             │ (\u001b[38;5;45mNone\u001b[0m, \u001b[38;5;34m256\u001b[0m)            │             \u001b[38;5;34m0\u001b[0m │\n",
       "├─────────────────────────────────┼────────────────────────┼───────────────┤\n",
       "│ dense_12 (\u001b[38;5;33mDense\u001b[0m)                │ (\u001b[38;5;45mNone\u001b[0m, \u001b[38;5;34m128\u001b[0m)            │        \u001b[38;5;34m32,896\u001b[0m │\n",
       "├─────────────────────────────────┼────────────────────────┼───────────────┤\n",
       "│ dropout_8 (\u001b[38;5;33mDropout\u001b[0m)             │ (\u001b[38;5;45mNone\u001b[0m, \u001b[38;5;34m128\u001b[0m)            │             \u001b[38;5;34m0\u001b[0m │\n",
       "├─────────────────────────────────┼────────────────────────┼───────────────┤\n",
       "│ dense_13 (\u001b[38;5;33mDense\u001b[0m)                │ (\u001b[38;5;45mNone\u001b[0m, \u001b[38;5;34m5\u001b[0m)              │           \u001b[38;5;34m645\u001b[0m │\n",
       "└─────────────────────────────────┴────────────────────────┴───────────────┘\n"
      ]
     },
     "metadata": {},
     "output_type": "display_data"
    },
    {
     "data": {
      "text/html": [
       "<pre style=\"white-space:pre;overflow-x:auto;line-height:normal;font-family:Menlo,'DejaVu Sans Mono',consolas,'Courier New',monospace\"><span style=\"font-weight: bold\"> Total params: </span><span style=\"color: #00af00; text-decoration-color: #00af00\">122,117</span> (477.02 KB)\n",
       "</pre>\n"
      ],
      "text/plain": [
       "\u001b[1m Total params: \u001b[0m\u001b[38;5;34m122,117\u001b[0m (477.02 KB)\n"
      ]
     },
     "metadata": {},
     "output_type": "display_data"
    },
    {
     "data": {
      "text/html": [
       "<pre style=\"white-space:pre;overflow-x:auto;line-height:normal;font-family:Menlo,'DejaVu Sans Mono',consolas,'Courier New',monospace\"><span style=\"font-weight: bold\"> Trainable params: </span><span style=\"color: #00af00; text-decoration-color: #00af00\">122,117</span> (477.02 KB)\n",
       "</pre>\n"
      ],
      "text/plain": [
       "\u001b[1m Trainable params: \u001b[0m\u001b[38;5;34m122,117\u001b[0m (477.02 KB)\n"
      ]
     },
     "metadata": {},
     "output_type": "display_data"
    },
    {
     "data": {
      "text/html": [
       "<pre style=\"white-space:pre;overflow-x:auto;line-height:normal;font-family:Menlo,'DejaVu Sans Mono',consolas,'Courier New',monospace\"><span style=\"font-weight: bold\"> Non-trainable params: </span><span style=\"color: #00af00; text-decoration-color: #00af00\">0</span> (0.00 B)\n",
       "</pre>\n"
      ],
      "text/plain": [
       "\u001b[1m Non-trainable params: \u001b[0m\u001b[38;5;34m0\u001b[0m (0.00 B)\n"
      ]
     },
     "metadata": {},
     "output_type": "display_data"
    },
    {
     "name": "stdout",
     "output_type": "stream",
     "text": [
      "--------------------------------------------------\n",
      "Starting MLP Model Training...\n"
     ]
    },
    {
     "name": "stderr",
     "output_type": "stream",
     "text": [
      "2025-10-27 14:37:54.288355: I external/local_xla/xla/stream_executor/cuda/subprocess_compilation.cc:346] ptxas warning : Registers are spilled to local memory in function 'gemm_fusion_dot_35', 8 bytes spill stores, 8 bytes spill loads\n",
      "\n",
      "2025-10-27 14:37:55.204586: I external/local_xla/xla/stream_executor/cuda/subprocess_compilation.cc:346] ptxas warning : Registers are spilled to local memory in function 'gemm_fusion_dot_35', 8 bytes spill stores, 8 bytes spill loads\n",
      "\n"
     ]
    },
    {
     "name": "stdout",
     "output_type": "stream",
     "text": [
      "Model Training Complete.\n",
      "--------------------------------------------------\n"
     ]
    },
    {
     "name": "stderr",
     "output_type": "stream",
     "text": [
      "2025-10-27 14:38:01.711913: I external/local_xla/xla/service/gpu/autotuning/dot_search_space.cc:208] All configs were filtered out because none of them sufficiently match the hints. Maybe the hints set does not contain a good representative set of valid configs? Working around this by using the full hints set instead.\n",
      "2025-10-27 14:38:02.068301: I external/local_xla/xla/stream_executor/cuda/subprocess_compilation.cc:346] ptxas warning : Registers are spilled to local memory in function 'gemm_fusion_dot_35', 8 bytes spill stores, 8 bytes spill loads\n",
      "\n",
      "2025-10-27 14:38:03.684063: I external/local_xla/xla/service/gpu/autotuning/dot_search_space.cc:208] All configs were filtered out because none of them sufficiently match the hints. Maybe the hints set does not contain a good representative set of valid configs? Working around this by using the full hints set instead.\n"
     ]
    },
    {
     "name": "stdout",
     "output_type": "stream",
     "text": [
      "Test Accuracy: 96.00%\n",
      "--------------------------------------------------\n"
     ]
    }
   ],
   "source": [
    "nn_model.compile(\n",
    "    optimizer='adam',\n",
    "    loss=loss_fn,\n",
    "    metrics=['accuracy']\n",
    ")\n",
    "\n",
    "print(f\"Model Input Shape (NN/MLP): {X_train.shape[1]}\")\n",
    "print(f\"Model Output Classes: {N_CLASSES}\")\n",
    "print(\"-\" * 50)\n",
    "nn_model.summary()\n",
    "print(\"-\" * 50)\n",
    "\n",
    "print(\"Starting MLP Model Training...\")\n",
    "# Train the model\n",
    "nn_model.fit(\n",
    "    X_train,\n",
    "    y_train,\n",
    "    epochs=20, # Use more epochs than RNNs, as simple layers train faster\n",
    "    batch_size=4,\n",
    "    validation_data=(X_test, y_test),\n",
    "    verbose=0\n",
    ")\n",
    "print(\"Model Training Complete.\")\n",
    "print(\"-\" * 50)\n",
    "\n",
    "# Evaluate the model\n",
    "loss, accuracy = nn_model.evaluate(X_test, y_test, verbose=0)\n",
    "print(f\"Test Accuracy: {accuracy*100:.2f}%\")\n",
    "print(\"-\" * 50)"
   ]
  },
  {
   "cell_type": "code",
   "execution_count": 33,
   "id": "fcccb18c",
   "metadata": {},
   "outputs": [
    {
     "name": "stdout",
     "output_type": "stream",
     "text": [
      "✅ NN Keras model weights saved to: nn_weights_v1.keras\n",
      "✅ Preprocessing artifacts (Scaler, Encoder) saved to: nn_model_v1.pkl\n"
     ]
    }
   ],
   "source": [
    "\n",
    "PICKLE_FILENAME = f'nn_model_{VERSION}.pkl'\n",
    "KERAS_MODEL_FILENAME = f'nn_weights_{VERSION}.keras'# Recommended native Keras format\n",
    "\n",
    "# 4a. Save the Keras model in its native format\n",
    "nn_model.save(f'../../model/trained/nn/{KERAS_MODEL_FILENAME}')\n",
    "\n",
    "# 4b. Create a dictionary of necessary artifacts (Scaler, Encoder, Model Path)\n",
    "artifacts = {\n",
    "    'scaler': scaler,\n",
    "    'label_encoder': label_encoder,\n",
    "    'model_filename': KERAS_MODEL_FILENAME,\n",
    "    'input_shape': X_train.shape[1:],\n",
    "    'num_classes': N_CLASSES\n",
    "}\n",
    "\n",
    "# 4c. Pickle the artifacts dictionary\n",
    "with open(f'../../model/trained/nn/{PICKLE_FILENAME}', 'wb') as file:\n",
    "    pickle.dump(artifacts, file)\n",
    "\n",
    "print(f\"✅ NN Keras model weights saved to: {KERAS_MODEL_FILENAME}\")\n",
    "print(f\"✅ Preprocessing artifacts (Scaler, Encoder) saved to: {PICKLE_FILENAME}\")"
   ]
  },
  {
   "cell_type": "code",
   "execution_count": null,
   "id": "89d79692",
   "metadata": {},
   "outputs": [],
   "source": []
  }
 ],
 "metadata": {
  "kernelspec": {
   "display_name": ".venv",
   "language": "python",
   "name": "python3"
  },
  "language_info": {
   "codemirror_mode": {
    "name": "ipython",
    "version": 3
   },
   "file_extension": ".py",
   "mimetype": "text/x-python",
   "name": "python",
   "nbconvert_exporter": "python",
   "pygments_lexer": "ipython3",
   "version": "3.10.18"
  }
 },
 "nbformat": 4,
 "nbformat_minor": 5
}
