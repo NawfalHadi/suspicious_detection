{
 "cells": [
  {
   "cell_type": "markdown",
   "id": "ddb612f5",
   "metadata": {},
   "source": [
    "# Train the dataset"
   ]
  },
  {
   "cell_type": "code",
   "execution_count": 2,
   "id": "b3549654",
   "metadata": {},
   "outputs": [],
   "source": [
    "from sklearn.model_selection import train_test_split\n",
    "import pandas as pd\n",
    "import pickle, os\n",
    "\n",
    "from sklearn.pipeline import make_pipeline\n",
    "from sklearn.preprocessing import StandardScaler \n",
    "from sklearn.metrics import confusion_matrix, ConfusionMatrixDisplay\n",
    "from sklearn.svm import *"
   ]
  },
  {
   "cell_type": "code",
   "execution_count": 7,
   "id": "bd254c09",
   "metadata": {},
   "outputs": [
    {
     "data": {
      "text/html": [
       "<div>\n",
       "<style scoped>\n",
       "    .dataframe tbody tr th:only-of-type {\n",
       "        vertical-align: middle;\n",
       "    }\n",
       "\n",
       "    .dataframe tbody tr th {\n",
       "        vertical-align: top;\n",
       "    }\n",
       "\n",
       "    .dataframe thead th {\n",
       "        text-align: right;\n",
       "    }\n",
       "</style>\n",
       "<table border=\"1\" class=\"dataframe\">\n",
       "  <thead>\n",
       "    <tr style=\"text-align: right;\">\n",
       "      <th></th>\n",
       "      <th>class</th>\n",
       "      <th>x1</th>\n",
       "      <th>y1</th>\n",
       "      <th>z1</th>\n",
       "      <th>v1</th>\n",
       "      <th>x2</th>\n",
       "      <th>y2</th>\n",
       "      <th>z2</th>\n",
       "      <th>v2</th>\n",
       "      <th>x3</th>\n",
       "      <th>...</th>\n",
       "      <th>z73</th>\n",
       "      <th>v73</th>\n",
       "      <th>x74</th>\n",
       "      <th>y74</th>\n",
       "      <th>z74</th>\n",
       "      <th>v74</th>\n",
       "      <th>x75</th>\n",
       "      <th>y75</th>\n",
       "      <th>z75</th>\n",
       "      <th>v75</th>\n",
       "    </tr>\n",
       "  </thead>\n",
       "  <tbody>\n",
       "    <tr>\n",
       "      <th>0</th>\n",
       "      <td>diam</td>\n",
       "      <td>0.543607</td>\n",
       "      <td>0.154529</td>\n",
       "      <td>-0.806512</td>\n",
       "      <td>0.999885</td>\n",
       "      <td>0.549615</td>\n",
       "      <td>0.124989</td>\n",
       "      <td>-0.789710</td>\n",
       "      <td>0.999588</td>\n",
       "      <td>0.514044</td>\n",
       "      <td>...</td>\n",
       "      <td>-0.771526</td>\n",
       "      <td>0.999838</td>\n",
       "      <td>0.385645</td>\n",
       "      <td>0.659511</td>\n",
       "      <td>-0.477846</td>\n",
       "      <td>0.978621</td>\n",
       "      <td>0.663300</td>\n",
       "      <td>0.577869</td>\n",
       "      <td>-0.231719</td>\n",
       "      <td>0.906865</td>\n",
       "    </tr>\n",
       "    <tr>\n",
       "      <th>1</th>\n",
       "      <td>diam</td>\n",
       "      <td>0.506170</td>\n",
       "      <td>0.182203</td>\n",
       "      <td>-0.680235</td>\n",
       "      <td>0.999978</td>\n",
       "      <td>0.531654</td>\n",
       "      <td>0.153888</td>\n",
       "      <td>-0.655531</td>\n",
       "      <td>0.999925</td>\n",
       "      <td>0.477606</td>\n",
       "      <td>...</td>\n",
       "      <td>-0.696684</td>\n",
       "      <td>0.999917</td>\n",
       "      <td>0.345774</td>\n",
       "      <td>0.670790</td>\n",
       "      <td>-0.396579</td>\n",
       "      <td>0.979707</td>\n",
       "      <td>0.688755</td>\n",
       "      <td>0.615902</td>\n",
       "      <td>-0.268427</td>\n",
       "      <td>0.985749</td>\n",
       "    </tr>\n",
       "    <tr>\n",
       "      <th>2</th>\n",
       "      <td>diam</td>\n",
       "      <td>0.504694</td>\n",
       "      <td>0.167553</td>\n",
       "      <td>-0.766055</td>\n",
       "      <td>0.999976</td>\n",
       "      <td>0.527472</td>\n",
       "      <td>0.134284</td>\n",
       "      <td>-0.739763</td>\n",
       "      <td>0.999921</td>\n",
       "      <td>0.475080</td>\n",
       "      <td>...</td>\n",
       "      <td>-0.780847</td>\n",
       "      <td>0.999940</td>\n",
       "      <td>0.352903</td>\n",
       "      <td>0.677664</td>\n",
       "      <td>-0.461034</td>\n",
       "      <td>0.982088</td>\n",
       "      <td>0.679477</td>\n",
       "      <td>0.620663</td>\n",
       "      <td>-0.349626</td>\n",
       "      <td>0.985000</td>\n",
       "    </tr>\n",
       "  </tbody>\n",
       "</table>\n",
       "<p>3 rows × 301 columns</p>\n",
       "</div>"
      ],
      "text/plain": [
       "  class        x1        y1        z1        v1        x2        y2        z2  \\\n",
       "0  diam  0.543607  0.154529 -0.806512  0.999885  0.549615  0.124989 -0.789710   \n",
       "1  diam  0.506170  0.182203 -0.680235  0.999978  0.531654  0.153888 -0.655531   \n",
       "2  diam  0.504694  0.167553 -0.766055  0.999976  0.527472  0.134284 -0.739763   \n",
       "\n",
       "         v2        x3  ...       z73       v73       x74       y74       z74  \\\n",
       "0  0.999588  0.514044  ... -0.771526  0.999838  0.385645  0.659511 -0.477846   \n",
       "1  0.999925  0.477606  ... -0.696684  0.999917  0.345774  0.670790 -0.396579   \n",
       "2  0.999921  0.475080  ... -0.780847  0.999940  0.352903  0.677664 -0.461034   \n",
       "\n",
       "        v74       x75       y75       z75       v75  \n",
       "0  0.978621  0.663300  0.577869 -0.231719  0.906865  \n",
       "1  0.979707  0.688755  0.615902 -0.268427  0.985749  \n",
       "2  0.982088  0.679477  0.620663 -0.349626  0.985000  \n",
       "\n",
       "[3 rows x 301 columns]"
      ]
     },
     "execution_count": 7,
     "metadata": {},
     "output_type": "execute_result"
    }
   ],
   "source": [
    "df = pd.read_csv('../../dataset/csv/dataset_v0.csv')\n",
    "df.head(3)\n"
   ]
  },
  {
   "cell_type": "code",
   "execution_count": 6,
   "id": "50093f93",
   "metadata": {},
   "outputs": [
    {
     "data": {
      "text/plain": [
       "class\n",
       "diam        35\n",
       "celinguk    35\n",
       "Name: count, dtype: int64"
      ]
     },
     "execution_count": 6,
     "metadata": {},
     "output_type": "execute_result"
    }
   ],
   "source": [
    "df['class'].value_counts()"
   ]
  },
  {
   "cell_type": "code",
   "execution_count": 8,
   "id": "47b53924",
   "metadata": {},
   "outputs": [
    {
     "name": "stdout",
     "output_type": "stream",
     "text": [
      "Train set size: 59\n",
      "Test set size: 11\n"
     ]
    }
   ],
   "source": [
    "X = df.drop('class', axis=1) # features\n",
    "y = df['class'] # target value\n",
    "\n",
    "X_train, X_test, y_train, y_test = train_test_split(X, y, test_size=0.15, random_state=1234)\n",
    "\n",
    "print(f\"Train set size: {X_train.shape[0]}\")\n",
    "print(f\"Test set size: {X_test.shape[0]}\")"
   ]
  },
  {
   "cell_type": "code",
   "execution_count": 9,
   "id": "21b30310",
   "metadata": {},
   "outputs": [
    {
     "data": {
      "text/plain": [
       "46    celinguk\n",
       "57    celinguk\n",
       "33        diam\n",
       "36    celinguk\n",
       "6         diam\n",
       "25        diam\n",
       "63    celinguk\n",
       "66    celinguk\n",
       "8         diam\n",
       "20        diam\n",
       "29        diam\n",
       "Name: class, dtype: object"
      ]
     },
     "execution_count": 9,
     "metadata": {},
     "output_type": "execute_result"
    }
   ],
   "source": [
    "y_test"
   ]
  },
  {
   "cell_type": "code",
   "execution_count": 10,
   "id": "a82d7e51",
   "metadata": {},
   "outputs": [],
   "source": [
    "model = make_pipeline(StandardScaler(), SVC(probability=True)).fit(X_train, y_train)\n",
    "y_probs = model.predict_proba(X_train)"
   ]
  },
  {
   "cell_type": "code",
   "execution_count": 11,
   "id": "a2775f51",
   "metadata": {},
   "outputs": [],
   "source": [
    "version = 0\n",
    "path = f'../../model/trained/'\n",
    "os.makedirs(os.path.dirname(path), exist_ok=True)\n",
    "\n",
    "with open(f'{path}/model_v{version}.pkl', 'wb') as f:\n",
    "    pickle.dump(model, f)"
   ]
  },
  {
   "cell_type": "code",
   "execution_count": 13,
   "id": "65d4bd51",
   "metadata": {},
   "outputs": [
    {
     "data": {
      "text/plain": [
       "array(['diam', 'diam', 'diam', 'celinguk', 'celinguk', 'diam', 'celinguk',\n",
       "       'celinguk', 'celinguk', 'diam', 'celinguk', 'diam', 'celinguk',\n",
       "       'diam', 'diam', 'diam', 'diam', 'diam', 'celinguk', 'diam',\n",
       "       'celinguk', 'celinguk', 'diam', 'celinguk', 'diam', 'diam',\n",
       "       'celinguk', 'celinguk', 'celinguk', 'diam', 'diam', 'celinguk',\n",
       "       'diam', 'celinguk', 'diam', 'celinguk', 'diam', 'celinguk',\n",
       "       'celinguk', 'diam', 'diam', 'diam', 'diam', 'celinguk', 'celinguk',\n",
       "       'celinguk', 'celinguk', 'celinguk', 'celinguk', 'diam', 'diam',\n",
       "       'celinguk', 'diam', 'celinguk', 'diam', 'diam', 'celinguk',\n",
       "       'celinguk', 'celinguk'], dtype=object)"
      ]
     },
     "execution_count": 13,
     "metadata": {},
     "output_type": "execute_result"
    }
   ],
   "source": [
    "y_pred = model.predict(X_train)\n",
    "y_pred"
   ]
  },
  {
   "cell_type": "code",
   "execution_count": 14,
   "id": "595e2bbc",
   "metadata": {},
   "outputs": [
    {
     "name": "stdout",
     "output_type": "stream",
     "text": [
      "True Positive (TP): 0\n",
      "False Positive (FP): 6\n",
      "True Negative (TN): 5\n",
      "False Negative (FN): 0\n"
     ]
    }
   ],
   "source": [
    "# Set the threshold for positive detection\n",
    "threshold = 0.75\n",
    "\n",
    "# Get the predicted probabilities for the test set\n",
    "y_pred_proba = model.predict_proba(X_test)[:, 1]\n",
    "\n",
    "# Apply the threshold to get binary predictions\n",
    "y_pred = (y_pred_proba >= threshold).astype(int)\n",
    "\n",
    "# Convert y_test to binary format (1 for positive class, 0 for negative class)\n",
    "y_test_binary = (y_test == 'positive_class').astype(int)  # Replace 'positive_class' with the actual positive class label\n",
    "\n",
    "\n",
    "# Generate confusion matrix\n",
    "cm = confusion_matrix(y_test_binary, y_pred)\n",
    "TN, FP, FN, TP = cm.ravel()\n",
    "\n",
    "print(\"True Positive (TP):\", TP)\n",
    "print(\"False Positive (FP):\", FP)\n",
    "print(\"True Negative (TN):\", TN)\n",
    "print(\"False Negative (FN):\", FN)"
   ]
  },
  {
   "cell_type": "code",
   "execution_count": null,
   "id": "86e016d4",
   "metadata": {},
   "outputs": [],
   "source": []
  }
 ],
 "metadata": {
  "kernelspec": {
   "display_name": ".venv",
   "language": "python",
   "name": "python3"
  },
  "language_info": {
   "codemirror_mode": {
    "name": "ipython",
    "version": 3
   },
   "file_extension": ".py",
   "mimetype": "text/x-python",
   "name": "python",
   "nbconvert_exporter": "python",
   "pygments_lexer": "ipython3",
   "version": "3.10.18"
  }
 },
 "nbformat": 4,
 "nbformat_minor": 5
}
