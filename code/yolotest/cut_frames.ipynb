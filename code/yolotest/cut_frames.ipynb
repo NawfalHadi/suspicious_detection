{
 "cells": [
  {
   "cell_type": "markdown",
   "id": "8c1aea01",
   "metadata": {},
   "source": [
    "# Create rectangle image focus to object.\n",
    "From an full image of cctv, detect someone then create\n",
    "rectangle image that shows rectangle. \n",
    "\n",
    "\n",
    "Target : The result image used to detected"
   ]
  }
 ],
 "metadata": {
  "kernelspec": {
   "display_name": ".venv",
   "language": "python",
   "name": "python3"
  },
  "language_info": {
   "name": "python",
   "version": "3.10.18"
  }
 },
 "nbformat": 4,
 "nbformat_minor": 5
}
