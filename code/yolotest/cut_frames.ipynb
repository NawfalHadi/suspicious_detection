{
 "cells": [
  {
   "cell_type": "markdown",
   "id": "8c1aea01",
   "metadata": {},
   "source": [
    "# Create rectangle image focus to object.\n",
    "From an full image of cctv, detect someone then\n",
    "\n",
    "\n",
    "Target : The result image used to detected"
   ]
  }
 ],
 "metadata": {
  "language_info": {
   "name": "python"
  }
 },
 "nbformat": 4,
 "nbformat_minor": 5
}
